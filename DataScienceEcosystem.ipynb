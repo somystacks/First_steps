{
 "cells": [
  {
   "cell_type": "markdown",
   "id": "0d696b89-52a7-4e13-a183-e3e78c201835",
   "metadata": {},
   "source": [
    "# Data Science Tools and Ecosystem"
   ]
  },
  {
   "cell_type": "markdown",
   "id": "5cc710ea-1b5f-4777-be58-bb3165156805",
   "metadata": {},
   "source": [
    "## In this notebook, Data Science Tools and Ecosystem are summarized"
   ]
  },
  {
   "cell_type": "markdown",
   "id": "9c5b6fc0-fbce-4d0f-aaa6-a43a764dc3ea",
   "metadata": {},
   "source": [
    "**Objectives:**"
   ]
  },
  {
   "cell_type": "markdown",
   "id": "7e548598-42ab-4c23-a392-d618f2073194",
   "metadata": {},
   "source": [
    "* List of Popular languages used by Data Scientists\n",
    "* Commonly used libraries used by Data Scientists\n",
    "* Common Data Science tools\n",
    "* Simple arithmetic using Python"
   ]
  },
  {
   "cell_type": "markdown",
   "id": "76075948-1a92-4ee6-a20d-e404ebafe127",
   "metadata": {},
   "source": [
    "### Some of the popular languages that Data Scientists use are:"
   ]
  },
  {
   "cell_type": "markdown",
   "id": "d57f30b1-4afb-434f-8286-17039dcf4db6",
   "metadata": {},
   "source": [
    "1. Python\n",
    "2. R\n",
    "3. SQL"
   ]
  },
  {
   "cell_type": "markdown",
   "id": "fb098f00-892d-46a5-a996-a7335e2bcbca",
   "metadata": {},
   "source": [
    "### Some of the commonly used libraries used by Data Scientists include:"
   ]
  },
  {
   "cell_type": "markdown",
   "id": "72e507cb-3a8b-41d7-a475-0fa1065ee7c4",
   "metadata": {},
   "source": [
    "1. Pandas\n",
    "2. Numpy\n",
    "3. Matplotlib\n",
    "4. Seaborn\n",
    "5. Scikit-learn"
   ]
  },
  {
   "cell_type": "markdown",
   "id": "9d0db37e-1de9-483a-9764-8ea2f1329e54",
   "metadata": {},
   "source": [
    "| Data Science Tools |\n",
    "| ------------------ |\n",
    "| Jupyter Notebook |\n",
    "| VS Code |\n",
    "| RStudio |"
   ]
  },
  {
   "cell_type": "markdown",
   "id": "1e0236a6-74e4-4ce6-ac49-cf8ba07788f1",
   "metadata": {},
   "source": [
    "### Below are a few examples of evaluating arithmetic expressions in Python"
   ]
  },
  {
   "cell_type": "code",
   "execution_count": 1,
   "id": "0769904a-3626-4246-b5b9-81f2eda6c9de",
   "metadata": {},
   "outputs": [
    {
     "data": {
      "text/plain": [
       "17"
      ]
     },
     "execution_count": 1,
     "metadata": {},
     "output_type": "execute_result"
    }
   ],
   "source": [
    "(3*4)+5\n",
    "#This is a simple arithmetic expression to multiply then add integers"
   ]
  },
  {
   "cell_type": "code",
   "execution_count": 5,
   "id": "0845a3ba-0784-4ac0-95dd-489137b41e40",
   "metadata": {},
   "outputs": [
    {
     "name": "stdout",
     "output_type": "stream",
     "text": [
      "3.33\n"
     ]
    }
   ],
   "source": [
    "m = 200 #where m is mins\n",
    "h = round(m / 60, 2) #where h is hours\n",
    "print(h)\n",
    "# This will convert 200 minutes to hours by dividing by 60\n",
    "\n"
   ]
  },
  {
   "cell_type": "markdown",
   "id": "ce53b96d-598a-44da-a043-f2f20ecdaf29",
   "metadata": {},
   "source": [
    "## Author\n",
    "Somto Nwandu"
   ]
  }
 ],
 "metadata": {
  "kernelspec": {
   "display_name": "Python [conda env:anaconda3]",
   "language": "python",
   "name": "conda-env-anaconda3-py"
  },
  "language_info": {
   "codemirror_mode": {
    "name": "ipython",
    "version": 3
   },
   "file_extension": ".py",
   "mimetype": "text/x-python",
   "name": "python",
   "nbconvert_exporter": "python",
   "pygments_lexer": "ipython3",
   "version": "3.8.5"
  }
 },
 "nbformat": 4,
 "nbformat_minor": 5
}
